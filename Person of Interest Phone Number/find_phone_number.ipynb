{
 "cells": [
  {
   "cell_type": "code",
   "execution_count": 1,
   "metadata": {},
   "outputs": [],
   "source": [
    "from mpmath import mp\n",
    "import re\n",
    "from pandas import read_csv"
   ]
  },
  {
   "cell_type": "code",
   "execution_count": 25,
   "metadata": {},
   "outputs": [],
   "source": [
    "# constants\n",
    "ny_area_code = [212, 917, 718]\n",
    "all_area_code = read_csv('./na_area_code.csv')['code'].to_list()"
   ]
  },
  {
   "cell_type": "code",
   "execution_count": 26,
   "metadata": {},
   "outputs": [],
   "source": [
    "# get first 3000 digits of pi\n",
    "mp.dps = 3000\n",
    "pi_str = str(mp.pi).replace('.','')"
   ]
  },
  {
   "cell_type": "code",
   "execution_count": 27,
   "metadata": {},
   "outputs": [],
   "source": [
    "# make NY re\n",
    "ny_area_code_re = '(?:' + ''.join([(str(code) + '|') for code in ny_area_code])[:-1] + ')'\n",
    "central_office_prefix_re = '[2-9](?!11)[0-9]{2}'    # can't end with 11\n",
    "line_number_re = '[0-9]{4}'\n",
    "\n",
    "ny_re = f'({ny_area_code_re}{central_office_prefix_re}{line_number_re})'"
   ]
  },
  {
   "cell_type": "code",
   "execution_count": 28,
   "metadata": {},
   "outputs": [
    {
     "data": {
      "text/plain": [
       "['9173637178',\n",
       " '2129021960',\n",
       " '9178608578',\n",
       " '9172874677',\n",
       " '9178249385',\n",
       " '7186494231']"
      ]
     },
     "execution_count": 28,
     "metadata": {},
     "output_type": "execute_result"
    }
   ],
   "source": [
    "re.findall(ny_re, pi_str)"
   ]
  },
  {
   "cell_type": "code",
   "execution_count": 29,
   "metadata": {},
   "outputs": [],
   "source": [
    "# all area code re\n",
    "all_area_code_re = '(?:' + ''.join([(str(code) + '|') for code in all_area_code])[:-1] + ')'\n",
    "central_office_prefix_re = '[2-9](?!11)[0-9]{2}'    # can't end with 11\n",
    "line_number_re = '[0-9]{4}'\n",
    "\n",
    "all_re = f'({all_area_code_re}{central_office_prefix_re}{line_number_re})'"
   ]
  },
  {
   "cell_type": "code",
   "execution_count": 31,
   "metadata": {},
   "outputs": [
    {
     "data": {
      "text/plain": [
       "248"
      ]
     },
     "execution_count": 31,
     "metadata": {},
     "output_type": "execute_result"
    }
   ],
   "source": [
    "len(re.findall(all_re, pi_str))"
   ]
  },
  {
   "cell_type": "code",
   "execution_count": null,
   "metadata": {},
   "outputs": [],
   "source": []
  }
 ],
 "metadata": {
  "kernelspec": {
   "display_name": "Python 3",
   "language": "python",
   "name": "python3"
  },
  "language_info": {
   "codemirror_mode": {
    "name": "ipython",
    "version": 3
   },
   "file_extension": ".py",
   "mimetype": "text/x-python",
   "name": "python",
   "nbconvert_exporter": "python",
   "pygments_lexer": "ipython3",
   "version": "3.7.4"
  }
 },
 "nbformat": 4,
 "nbformat_minor": 4
}
